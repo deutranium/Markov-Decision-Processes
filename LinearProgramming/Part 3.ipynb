{
 "cells": [
  {
   "cell_type": "code",
   "execution_count": 1,
   "metadata": {},
   "outputs": [],
   "source": [
    "import cvxpy as cp\n",
    "import numpy as np\n",
    "import pandas as pd"
   ]
  },
  {
   "cell_type": "code",
   "execution_count": 2,
   "metadata": {},
   "outputs": [],
   "source": [
    "STEP_COST = -10\n",
    "POSITIONS = 5\n",
    "MAX_MATERIALS = 2         # num_material = 0..2\n",
    "MAX_ARROWS = 3            # num_arrow = 0..3\n",
    "MONSTER_STATES = 2\n",
    "MAX_HEALTH_STATES = 4     # health = (0..4)*25"
   ]
  },
  {
   "cell_type": "code",
   "execution_count": 3,
   "metadata": {},
   "outputs": [],
   "source": [
    "state_to_idx = np.zeros((POSITIONS, MAX_MATERIALS+1, MAX_ARROWS+1, MONSTER_STATES, MAX_HEALTH_STATES+1))\n",
    "states = []\n",
    "state_action_pairs = []"
   ]
  },
  {
   "cell_type": "code",
   "execution_count": 5,
   "metadata": {},
   "outputs": [],
   "source": [
    "def inititialise():\n",
    "    pass"
   ]
  },
  {
   "cell_type": "code",
   "execution_count": null,
   "metadata": {},
   "outputs": [],
   "source": [
    "def calculate_A():\n",
    "    pass"
   ]
  },
  {
   "cell_type": "code",
   "execution_count": null,
   "metadata": {},
   "outputs": [],
   "source": [
    "def calculate_R():\n",
    "    pass"
   ]
  },
  {
   "cell_type": "code",
   "execution_count": null,
   "metadata": {},
   "outputs": [],
   "source": [
    "def calculate_alpha():\n",
    "    pass"
   ]
  },
  {
   "cell_type": "code",
   "execution_count": null,
   "metadata": {},
   "outputs": [],
   "source": [
    "def LinProg():\n",
    "    pass"
   ]
  },
  {
   "cell_type": "code",
   "execution_count": null,
   "metadata": {},
   "outputs": [],
   "source": [
    "start_state = (0,0,0,0,100)\n",
    "general_case = True\n",
    "inititialise()\n",
    "print(len(idx_to_state_action))\n",
    "A = calculate_A()\n",
    "R = calculate_R()\n",
    "alpha = calculate_alpha(general_case, start_state)\n",
    "LinProg(A, alpha, R)"
   ]
  }
 ],
 "metadata": {
  "kernelspec": {
   "display_name": "Python 3",
   "language": "python",
   "name": "python3"
  },
  "language_info": {
   "codemirror_mode": {
    "name": "ipython",
    "version": 3
   },
   "file_extension": ".py",
   "mimetype": "text/x-python",
   "name": "python",
   "nbconvert_exporter": "python",
   "pygments_lexer": "ipython3",
   "version": "3.6.9"
  }
 },
 "nbformat": 4,
 "nbformat_minor": 4
}
