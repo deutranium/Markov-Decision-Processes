{
 "cells": [
  {
   "cell_type": "markdown",
   "metadata": {},
   "source": [
    "# Value Iteration Algorithms"
   ]
  },
  {
   "cell_type": "code",
   "execution_count": 7,
   "metadata": {},
   "outputs": [],
   "source": [
    "import random"
   ]
  },
  {
   "cell_type": "code",
   "execution_count": 1,
   "metadata": {},
   "outputs": [],
   "source": [
    "# CONSTANTS\n",
    "team_number = 92\n",
    "arr = [1/2, 1, 2]\n",
    "y = arr[team_number%3]\n",
    "STEP_COST = -10/y\n",
    "\n",
    "GAMMA = 0.999\n",
    "DELTA = 0.001"
   ]
  },
  {
   "cell_type": "code",
   "execution_count": 2,
   "metadata": {},
   "outputs": [],
   "source": [
    "X = 0\n",
    "Y = 0\n",
    "POSITION = \"CENTER\""
   ]
  },
  {
   "cell_type": "code",
   "execution_count": 5,
   "metadata": {},
   "outputs": [],
   "source": [
    "positions = {\n",
    "    (0,0): \"CENTER\",\n",
    "    (-1,0): \"WEST\",\n",
    "    (1,0): \"EAST\",\n",
    "    (0,1): \"NORTH\",\n",
    "    (0,-1): \"SOUTH\"\n",
    "}\n",
    "\n",
    "probability_movement = {\n",
    "    \"CENTER\": 0.85,\n",
    "    \"WEST\": 1,\n",
    "    \"EAST\": 1,\n",
    "    \"NORTH\": 0.85,\n",
    "    \"SOUTH\": 0.85\n",
    "}\n",
    "\n",
    "possible_actions = {\n",
    "    \"CENTER\": [\"UP\", \"DOWN\", \"LEFT\", \"RIGHT\", \"STAY\", \"SHOOT\", \"HIT\"],\n",
    "    \"WEST\": [\"RIGHT\", \"STAY\", \"SHOOT\"],\n",
    "    \"EAST\": [\"LEFT\", \"STAY\", \"SHOOT\", \"HIT\"],\n",
    "    \"NORTH\": [\"DOWN\", \"STAY\", \"CRAFT\"],\n",
    "    \"SOUTH\": [\"UP\", \"STAY\", \"GATHER\"]\n",
    "}"
   ]
  },
  {
   "cell_type": "code",
   "execution_count": 6,
   "metadata": {},
   "outputs": [
    {
     "name": "stdout",
     "output_type": "stream",
     "text": [
      "up\n",
      "2\n"
     ]
    }
   ],
   "source": [
    "# MOVEMENT FUNCTIONS\n",
    "\n",
    "def move_up(pos):\n",
    "    global X, Y\n",
    "    Y += 1\n",
    "    print(\"up\")\n",
    "    \n",
    "\n",
    "def move_down(pos):\n",
    "    global X, Y\n",
    "    Y -= 1\n",
    "    print(\"down\")\n",
    "    \n",
    "\n",
    "def move_left(pos):\n",
    "    global X, Y\n",
    "    X -= 1\n",
    "    print(\"left\")\n",
    "    \n",
    "\n",
    "def move_right(pos):\n",
    "    global X, Y\n",
    "    X += 1\n",
    "    print(\"right\")\n",
    "    \n",
    "\n",
    "def move_stay(pos):\n",
    "    print(\"stay\")\n",
    "    \n",
    "\n",
    "def move(action, position):\n",
    "    switcher = {\n",
    "        \"UP\": move_up,\n",
    "        \"DOWN\": move_down,\n",
    "        \"LEFT\": move_left,\n",
    "        \"RIGHT\": move_right,\n",
    "        \"STAY\": move_stay\n",
    "    }\n",
    "    \n",
    "    return(switcher[action](position))\n",
    "\n",
    "move(\"UP\", \"hehe\")\n",
    "\n",
    "print(Y)"
   ]
  },
  {
   "cell_type": "code",
   "execution_count": null,
   "metadata": {},
   "outputs": [],
   "source": [
    "## TRANSITION FUNCTIONS\n",
    "class State:\n",
    "    def __init__ (self, name, x, y, move_prob, shoot_prob = 0, craft_prob = 0, gather_prob = 0):\n",
    "        super().__init__()\n",
    "        \n",
    "        self.name = name\n",
    "        self.x = x\n",
    "        self.y = y\n",
    "        self.move_prob = move_prob\n",
    "        self.shoot_prob = shoot_prob\n",
    "        self.shoot_damage = 25\n",
    "        self.hit_prob = hit_prob\n",
    "        self.hit_damage = 50\n",
    "        self.craft_prob = craft_prob\n",
    "        self.utlity = -99999"
   ]
  },
  {
   "cell_type": "code",
   "execution_count": null,
   "metadata": {},
   "outputs": [],
   "source": [
    "## INDIANA CLASS\n",
    "class Indiana:\n",
    "    def __init__ (self):\n",
    "        self.x = 0\n",
    "        self.y = 0\n",
    "        self.position = positions[(self.x, self.y)]\n",
    "        self.arrows = 0\n",
    "        self.material = 0\n",
    "        self.health = 0\n",
    "        \n",
    "        self.north = new State(\"NORTH\", 0, 1, 0.85, craft_prob = {1: 0.5, 2: 0.35, 3: 0.15})\n",
    "        self.south = new State(\"SOUTH\", 0, -1, 0.85, gather_prob = 0.75)\n",
    "        self.east = new State(\"EAST\", 1, 0, 1, shoot_prob = 0.9, hit_prob = 0.2)\n",
    "        self.west = new State(\"WEST\", 0, 1, 1, shoot_prob = 0.25)\n",
    "        self.center = new State(\"CENTER\", 0, 0, 0.85, shoot_prob = 0.5, hit_prob = 0.1)\n",
    "        \n",
    "    def move(self, state, direction):\n",
    "        \n",
    "        states\n",
    "        prob = random.random()\n",
    "        if probability_movement[self.position] == \"NORTH\":\n",
    "            if prob <= 0.85:\n",
    "                "
   ]
  },
  {
   "cell_type": "code",
   "execution_count": null,
   "metadata": {},
   "outputs": [],
   "source": [
    "## MM CLASS\n",
    "class Monster:\n",
    "    def __init__ (self):\n",
    "        self.health = 100\n",
    "        self.ready_state = 0\n",
    "        \n",
    "    def update(self):\n",
    "        prob = random.random()\n",
    "        \n",
    "        \n",
    "        # DORMANT state\n",
    "        if not self.ready_state:\n",
    "            if prob <= 0.2:\n",
    "                self.ready_state = 1\n",
    "        \n",
    "        # READY state\n",
    "        else:\n",
    "            if prob <= 0.5\n",
    "                self.attack()\n",
    "                self.ready_state = 0\n",
    "                \n",
    "    def attack(self):\n",
    "        if indiana.position == \"EAST\" or indiana.position == \"CENTER\":\n",
    "            indiana.arrows = 0\n",
    "            self.health = min(self.health + 25, 100)\n",
    "            indiana.reward -= -40            "
   ]
  },
  {
   "cell_type": "code",
   "execution_count": null,
   "metadata": {},
   "outputs": [],
   "source": [
    "## iteration loop\n",
    "\n",
    "while(cur_error > DELTA)"
   ]
  }
 ],
 "metadata": {
  "kernelspec": {
   "display_name": "Python 3",
   "language": "python",
   "name": "python3"
  },
  "language_info": {
   "codemirror_mode": {
    "name": "ipython",
    "version": 3
   },
   "file_extension": ".py",
   "mimetype": "text/x-python",
   "name": "python",
   "nbconvert_exporter": "python",
   "pygments_lexer": "ipython3",
   "version": "3.8.3"
  }
 },
 "nbformat": 4,
 "nbformat_minor": 4
}
